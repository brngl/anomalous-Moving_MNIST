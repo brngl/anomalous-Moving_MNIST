{
  "nbformat": 4,
  "nbformat_minor": 0,
  "metadata": {
    "colab": {
      "name": "AnoMMNIST.ipynb",
      "provenance": [],
      "collapsed_sections": []
    },
    "kernelspec": {
      "name": "python3",
      "display_name": "Python 3"
    }
  },
  "cells": [
    {
      "cell_type": "code",
      "metadata": {
        "id": "LWw-wWgrqO2x",
        "colab_type": "code",
        "colab": {}
      },
      "source": [
        "class Number:\n",
        "    def __init__(self, x, y, index, val):\n",
        "        self.x = x\n",
        "        self.y = y\n",
        "        self.index = index\n",
        "        self.val = val\n",
        "\n",
        "    def get_x(self):\n",
        "        return self.x\n",
        "\n",
        "    def get_y(self):\n",
        "        return self.y\n",
        "\n",
        "    def get_index(self):\n",
        "        return self.index\n",
        "\n",
        "    def get_val(self):\n",
        "        return self.val\n",
        "\n",
        "    def distance(self, point):\n",
        "        # Euclidean distance beetween this point and other\n",
        "        import math\n",
        "        return math.sqrt(abs(self.get_x() - point.get_x()) + abs(self.get_y() - point.get_y()))\n",
        "\n",
        "    def encapsulate_numbers(legend_array, img_embed):\n",
        "        numbers = []\n",
        "        for i in range(len(legend_array)):\n",
        "            x_coo = img_embed[i,:][0]\n",
        "            y_coo = img_embed[i,:][1]\n",
        "            number = Number(x_coo, y_coo, i, legend_array[i])\n",
        "            numbers.append(number)\n",
        "        return numbers\n",
        "\n",
        "\n",
        "    def neighbours(numbers, same_digit, neighbourhood):\n",
        "        \"\"\"\n",
        "        # same_digit: a boolean. If False, it searches for different numbers who look like similar.\n",
        "                                If True, it searches for two similar representations of the same number.\n",
        "        # neighbourhood: a tuple. (min_distance, max_distance). min_distance xor max_distance can be None.\n",
        "        \"\"\"\n",
        "        min_distance = neighbourhood[0]\n",
        "        max_distance = neighbourhood[1]\n",
        "\n",
        "        if (min_distance == None and max_distance == None):\n",
        "            raise ValueError(\"Just one beetween min_distance and max_distance can be None\")\n",
        "\n",
        "        if (min_distance != None):\n",
        "            min_distance = neighbourhood[0]\n",
        "        else:\n",
        "            min_distance = 0\n",
        "\n",
        "        if (max_distance != None):\n",
        "            max_distance = neighbourhood[1]\n",
        "        else:\n",
        "            max_distance = 5\n",
        "\n",
        "        nbs = []\n",
        "        for num1 in numbers:\n",
        "            if (num1.get_index() % 1000 == 0):\n",
        "                print(num1.get_index())\n",
        "            for num2 in numbers:\n",
        "                same = True\n",
        "                if (not same_digit):\n",
        "                    same = num1.get_val() != num2.get_val()\n",
        "                else:\n",
        "                    same = num1.get_val() == num2.get_val()\n",
        "                if (num1.get_index() != num2.get_index() and\n",
        "                        min_distance <= num1.distance(num2) <= max_distance and\n",
        "                        same):\n",
        "                    nbs.append((num1, num2))\n",
        "        return nbs"
      ],
      "execution_count": 0,
      "outputs": []
    },
    {
      "cell_type": "code",
      "metadata": {
        "id": "vGmvJiIRfwXC",
        "colab_type": "code",
        "colab": {}
      },
      "source": [
        "import math\n",
        "import os\n",
        "import sys\n",
        "import numpy as np\n",
        "from PIL import Image\n",
        "from sklearn.manifold import TSNE\n",
        "from sklearn.cluster import KMeans\n",
        "\n",
        "class AnomalousMovingMNIST:\n",
        "    '''\n",
        "    Args:\n",
        "            anom_frames: list of anomalous frame indexes that must appear in the sequence\n",
        "            num_anoms_per_frame: how many MNIST numbers have to be anomalous in an anomalous frame\n",
        "            n_clusters: number of clusters to perform K-Means. \n",
        "                More clusters imply smaller cluster size, more similarity between instances but less variety.\n",
        "                Less clusters imply bigger cluster size, less similarity between instances but more variety.\n",
        "            dataset = {training, test}: specifies whether the dataset should be created from the MNIST training set or test set\n",
        "    '''\n",
        "    def __init__(self, \n",
        "                 anom_frames,\n",
        "                 num_anoms_per_frame,\n",
        "                 num_sequences=20000,\n",
        "                 shape=(64, 64),\n",
        "                 num_frames=30,\n",
        "                 original_size=28,\n",
        "                 nums_per_image=2,\n",
        "                 path_data = '',\n",
        "                 path_labels = '',\n",
        "                 path_tSNE = '',\n",
        "                 n_clusters = 30,\n",
        "                 dest='anomovingmnistdata',\n",
        "                 filetype='npz',\n",
        "                 dataset='test',):\n",
        "        if(not num_anoms_per_frame in [1,2]):\n",
        "            raise ValueError(\"num_anoms_per_frame must be 1 or 2\")\n",
        "        \n",
        "        if(not dataset in ['training', 'test']):\n",
        "            raise ValueError(\"possible values: {training, test}\")\n",
        "        \n",
        "        self.shape = shape\n",
        "        self.num_frames = num_frames\n",
        "        self.num_sequences = num_sequences\n",
        "        self.original_size = original_size\n",
        "        self.nums_per_image = nums_per_image\n",
        "        self.dest = dest\n",
        "        self.filetype = filetype\n",
        "        self.dataset = dataset\n",
        "        self.path_data = path_data\n",
        "        self.path_labels = path_labels\n",
        "        self.path_tSNE = path_tSNE\n",
        "        self.n_clusters = n_clusters\n",
        "        self.anom_frames = anom_frames\n",
        "        self.num_anoms_per_frame = num_anoms_per_frame\n",
        "\n",
        "    def get_mnist_path(self):\n",
        "        return self.mnist_path\n",
        "    \n",
        "    def arr_from_img(self, im, mean=0, std=1):\n",
        "        '''\n",
        "\n",
        "        Args:\n",
        "            im: Image\n",
        "            shift: Mean to subtract\n",
        "            std: Standard Deviation to subtract\n",
        "\n",
        "        Returns:\n",
        "            Image in np.float32 format, in width height channel format. With values in range 0,1\n",
        "            Shift means subtract by certain value. Could be used for mean subtraction.\n",
        "        '''\n",
        "        width, height = im.size\n",
        "        arr = im.getdata()\n",
        "        c = int(np.product(arr.size) / (width * height))\n",
        "\n",
        "        return (np.asarray(arr, dtype=np.float32).reshape((height, width, c)).transpose(2, 1, 0)) / std\n",
        "\n",
        "    def get_image_from_array(self, X, index, mean=0, std=1):\n",
        "        '''\n",
        "\n",
        "        Args:\n",
        "            X: Dataset of shape N x C x W x H\n",
        "            index: Index of image we want to fetch\n",
        "            mean: Mean to add\n",
        "            std: Standard Deviation to add\n",
        "        Returns:\n",
        "            Image with dimensions H x W x C or H x W if it's a single channel image\n",
        "        '''\n",
        "        ch, w, h = X.shape[1], X.shape[2], X.shape[3]\n",
        "        ret = (((X[index] + mean)) * std).reshape(ch, w, h).transpose(2, 1, 0)#.clip(0, 255).astype(np.uint8)\n",
        "        if ch == 1:\n",
        "            ret = ret.reshape(h, w)\n",
        "        return ret\n",
        "\n",
        "    def get_image_from_array_blank(self, X, index, mean=0, std=1):\n",
        "        '''\n",
        "\n",
        "        Args:\n",
        "            X: Dataset of shape N x C x W x H\n",
        "            index: Index of image we want to fetch\n",
        "            mean: Mean to add\n",
        "            std: Standard Deviation to add\n",
        "        Returns:\n",
        "            Image with dimensions H x W x C or H x W if it's a single channel image\n",
        "        '''\n",
        "        ch, w, h = X.shape[1], X.shape[2], X.shape[3]\n",
        "        ret = (((X[index] + mean)) * std).reshape(ch, w, h).transpose(2, 1, 0)#.clip(0, 255).astype(np.uint8)\n",
        "        ret = np.zeros([1,28,28])\n",
        "        if ch == 1:\n",
        "            ret = ret.reshape(h, w)\n",
        "        return ret\n",
        "\n",
        "    #Load dataset from sklearn\n",
        "    def load_dataset_from_sklearn(self, dataset='test', path_data='', path_labels=''):\n",
        "        data = []\n",
        "        labels = []\n",
        "        data_reshaped = []\n",
        "        if(not(path_data == '' or path_labels == '')):\n",
        "            data = np.load(path_data, allow_pickle=True)\n",
        "            labels = np.load(path_labels, allow_pickle=True)\n",
        "            print('Loaded dataset from file system')\n",
        "        else:\n",
        "            from sklearn.datasets import fetch_openml\n",
        "            print(\"Downloading MNIST \"+dataset+\" set from sklearn\")\n",
        "            data, labels = fetch_openml('mnist_784', version=1, return_X_y=True)\n",
        "            data_reshaped = data.reshape(-1, 1, 28, 28).transpose(0, 1, 3, 2)\n",
        "            np.save('data', data)\n",
        "            np.save('labels', labels)\n",
        "            print((\"done\"))\n",
        "        if (dataset == 'training'):\n",
        "            return data[:60000], data_reshaped[:60000] / np.float32(255), labels[:60000]\n",
        "        return data[-10000:], data_reshaped[-10000:] / np.float32(255), labels[-10000:]\n",
        "\n",
        "    def perform_tSNE(self, data, path_tSNE=''):\n",
        "        img_embed = None\n",
        "        if(self.path_tSNE==''):\n",
        "                print(\"Performing t-SNE on a dataset of shape \"+str(data.shape)+\"...\")\n",
        "                tsne = TSNE(n_components=2)\n",
        "                img_embed = tsne.fit_transform(data)\n",
        "                np.save(self.path_tSNE, img_embed)\n",
        "        else:\n",
        "            print(\"Loading existing t-SNE embedding from file system\")\n",
        "            img_embed = np.load(self.path_tSNE)\n",
        "            print(\"done\")\n",
        "        return img_embed\n",
        "    \n",
        "    def perform_KMeans(self, embedding, labels, n_clusters):\n",
        "        print(\"Performing KMeans. K =\",n_clusters)\n",
        "        clusters = {}\n",
        "        clusters_dimension = [0]*n_clusters\n",
        "        medoids = []\n",
        "        candidates = []\n",
        "        kmeans = KMeans(n_clusters=n_clusters, random_state=0).fit(embedding)\n",
        "        distances = KMeans(n_clusters=n_clusters, random_state=0).fit_transform(embedding)\n",
        "        for i in kmeans.labels_:\n",
        "                clusters_dimension[i]+=1\n",
        "        clusters = [ [] for i in range(n_clusters)]\n",
        "        pos = 0\n",
        "        for i in kmeans.labels_:\n",
        "                clusters[i].append(Number(embedding[pos][0], embedding[pos][1], pos, labels[pos]))\n",
        "                pos+=1\n",
        "        \n",
        "        \n",
        "        for k in range(distances.shape[1]):\n",
        "            arr = distances[:, k] \n",
        "            min_dist = 10000000\n",
        "            med = 0\n",
        "            for i in range(distances.shape[0]):\n",
        "                if(arr[i] < min_dist):\n",
        "                    min_dist = arr[i]\n",
        "                    med = i\n",
        "            medoids.append(med)\n",
        "        candidates = []\n",
        "        for i in range(n_clusters):\n",
        "            cli = clusters[i]\n",
        "            #index_false = np.random.randint(0, len(cli))\n",
        "            index_candidates=0\n",
        "            found = True\n",
        "            while(index_candidates < len(cli)-1 and (index_candidates == medoids[i] or labels[medoids[i]] == cli[index_candidates].get_val())):\n",
        "                index_candidates+=1\n",
        "                #index_false = np.random.randint(0, len(cli))\n",
        "            while(index_candidates == medoids[i] and index_candidates >= len(cli)):\n",
        "            #while(index_false == candidates_true[i] or index_false >= len(cli)):\n",
        "                index_candidates = np.random.randint(0, len(cli)-1)\n",
        "            candidates.append(cli[index_candidates].get_index())\n",
        "\n",
        "        return clusters, medoids, candidates\n",
        "\n",
        "        \n",
        "\n",
        "    def generate_moving_mnist(self, dataset='test', shape=(64, 64), num_frames=20, num_sequences=10000, original_size=28,\n",
        "                              nums_per_image=2):\n",
        "        '''\n",
        "\n",
        "        Args:\n",
        "            dataset = {test, training}: used to decide if downloading/generating train set or test set\n",
        "            shape: Shape we want for our moving images (new_width and new_height)\n",
        "            num_frames: Number of frames in a particular movement/animation/gif\n",
        "            num_sequences: Number of movement/animations/gif to generate\n",
        "            original_size: Real size of the images (eg: MNIST is 28x28)\n",
        "            nums_per_image: Digits per movement/animation/gif.\n",
        "\n",
        "        Returns:\n",
        "            Dataset of np.uint8 type with dimensions num_frames * num_sequences x 1 x new_width x new_height\n",
        "\n",
        "        '''\n",
        "        if(self.dataset == 'training'):\n",
        "            print(\"Generating training set of shape (\"+str(num_sequences)+\", \"+\n",
        "                  str(num_frames)+\", 1, \"+str(shape[0])+\", \"+str(shape[1])+\")\")\n",
        "        else:\n",
        "            print(\"Generating test set of shape (\"+str(num_sequences)+\", \"+\n",
        "                  str(num_frames)+\", 1, \"+str(shape[0])+\", \"+str(shape[1])+\")\")\n",
        "            \n",
        "        data, mnist, labels = self.load_dataset_from_sklearn(self.dataset, \n",
        "                                                                path_data=self.path_data,\n",
        "                                                                 path_labels=self.path_labels)\n",
        "        \n",
        "        img_embed = self.perform_tSNE(data, self.path_tSNE)\n",
        "        _, medoids, candidates = self.perform_KMeans(img_embed, labels, n_clusters=self.n_clusters)\n",
        "\n",
        "        index_list = medoids\n",
        "        index_list_false = candidates\n",
        "        mnist_false = data[index_list_false].reshape(-1, 1, 28, 28)#.transpose(0, 1, 3, 2)\n",
        "        mnist = data[index_list].reshape(-1, 1, 28, 28)#.transpose(0, 1, 3, 2)\n",
        "\n",
        "        print(\"Building dataset...\")\n",
        "        width, height = shape\n",
        "        # Get how many pixels can we move around a single image\n",
        "        lims = (x_lim, y_lim) = width - original_size, height - original_size\n",
        "\n",
        "        # Create a dataset of shape of num_frames * num_sequences x 1 x new_width x new_height\n",
        "        # Eg : 3000000 x 1 x 64 x 64\n",
        "        dataset = np.empty((num_frames * num_sequences, 1, width, height), dtype=np.uint8)\n",
        "        for img_idx in range(num_sequences):\n",
        "            direcs = np.pi * (np.random.rand(nums_per_image) * 2 - 1)\n",
        "            speeds = np.random.randint(5, size=nums_per_image) + 2\n",
        "            veloc = np.asarray(\n",
        "                [(speed * math.cos(direc), speed * math.sin(direc)) for direc, speed in zip(direcs, speeds)])\n",
        "            # Get a list containing two PIL images randomly sampled from the database\n",
        "            casual_index = np.random.randint(0, mnist.shape[0], nums_per_image)\n",
        "            mnist_images = []\n",
        "            image_false = None\n",
        "            mnist_images_false = None\n",
        "\n",
        "            for r in casual_index:\n",
        "                mnist_images.append(Image.fromarray(self.get_image_from_array(mnist, r, mean=0)).resize((original_size, original_size),\n",
        "                                                                               Image.ANTIALIAS))\n",
        "            \n",
        "            index_to_false1 = casual_index[0]\n",
        "            index_to_false2 = casual_index[1]\n",
        "            image_false1 = Image.fromarray(self.get_image_from_array(mnist_false, index_to_false1, mean=0)).resize((original_size, original_size),\n",
        "                                                                            Image.ANTIALIAS)\n",
        "            image_false2 = Image.fromarray(self.get_image_from_array(mnist_false, index_to_false2, mean=0)).resize((original_size, original_size),\n",
        "                                                                            Image.ANTIALIAS)\n",
        "            \n",
        "            if(self.num_anoms_per_frame == 1):\n",
        "                rand_idx = np.random.randint(2)\n",
        "                mnist_images_false = [image_false1, image_false2]\n",
        "                mnist_images_false[rand_idx] = mnist_images[rand_idx]\n",
        "\n",
        "            if(self.num_anoms_per_frame == 2):\n",
        "                mnist_images_false = [image_false1, image_false2]\n",
        "\n",
        "            # Generate tuples of (x,y) i.e initial positions for nums_per_image (default : 2)\n",
        "            positions = np.asarray(\n",
        "                [(np.random.rand() * x_lim, np.random.rand() * y_lim) for _ in range(nums_per_image)])\n",
        "            positions_false = np.asarray(\n",
        "                [(np.random.rand() * x_lim, np.random.rand() * y_lim) for _ in range(nums_per_image)])\n",
        "\n",
        "            # Generate new frames for the entire num_framesgth\n",
        "            for frame_idx in range(num_frames):\n",
        "                canvases = [Image.new('L', (width, height)) for _ in range(nums_per_image)]\n",
        "                canvas = np.zeros((1, width, height), dtype=np.float32)\n",
        "\n",
        "                # In canv (i.e Image object) place the image at the respective positions\n",
        "                # Super impose both images on the canvas (i.e empty np array)\n",
        "                for i, canv in enumerate(canvases):\n",
        "                    im = mnist_images[i]\n",
        "                    if(frame_idx in self.anom_frames):\n",
        "                        im = mnist_images_false[i]    \n",
        "                        #canv.paste(im, tuple(positions_false[i].astype(int)))\n",
        "                    #else:    \n",
        "                    canv.paste(im, tuple(positions[i].astype(int)))\n",
        "                    canvas += self.arr_from_img(canv, mean=0)\n",
        "\n",
        "                # Get the next position by adding velocity\n",
        "                next_pos = positions + veloc\n",
        "\n",
        "                # Iterate over velocity and see if we hit the wall\n",
        "                # If we do then change the  (change direction)\n",
        "                for i, pos in enumerate(next_pos):\n",
        "                    for j, coord in enumerate(pos):\n",
        "                        if coord < -2 or coord > lims[j] + 2:\n",
        "                            veloc[i] = list(list(veloc[i][:j]) + [-1 * veloc[i][j]] + list(veloc[i][j + 1:]))\n",
        "\n",
        "                # Make the permanent change to position by adding updated velocity\n",
        "                positions = positions + veloc\n",
        "\n",
        "                # Add the canvas to the dataset array\n",
        "                dataset[img_idx * num_frames + frame_idx] = ((canvas).clip(0, 255)).astype(np.float32)\n",
        "        #Reshape dataset to have a shape like (30, 100, 1, 64, 64)\n",
        "        dataset = dataset.reshape(num_sequences, num_frames, 1, width, height)\n",
        "        print(\"done! :)\")\n",
        "        return dataset\n",
        "\n",
        "    def generate_ano_mnist(self):\n",
        "        shape = self.shape\n",
        "        num_frames = self.num_frames\n",
        "        num_sequences = self.num_sequences\n",
        "        original_size = self.original_size\n",
        "        nums_per_image = self.nums_per_image\n",
        "        dat = self.generate_moving_mnist(dataset='test', shape=shape, num_frames=num_frames, num_sequences=num_sequences,\n",
        "                                original_size=original_size, nums_per_image=nums_per_image)\n",
        "\n",
        "        n = num_sequences * num_frames\n",
        "        if self.filetype == 'npz':\n",
        "            np.savez(self.dest, anommnist=dat)\n",
        "        elif filetype == 'jpg':\n",
        "            for i in range(dat.shape[0]):\n",
        "                Image.fromarray(self.get_image_from_array(dat, i, mean=0)).save(os.path.join(dest, '{}.jpg'.format(i)))\n",
        "\n",
        "\n",
        "        "
      ],
      "execution_count": 0,
      "outputs": []
    },
    {
      "cell_type": "code",
      "metadata": {
        "id": "6PjIPbFKoTgb",
        "colab_type": "code",
        "colab": {
          "base_uri": "https://localhost:8080/",
          "height": 139
        },
        "outputId": "30aea51e-e563-4a12-c128-48aeebec7bbf"
      },
      "source": [
        "gen = AnomalousMovingMNIST(\n",
        "    anom_frames=[5,6,7],\n",
        "    num_anoms_per_frame=1,\n",
        "    num_frames=20, \n",
        "    num_sequences=200, \n",
        "    dataset = 'test', \n",
        "    path_data='data.npy', \n",
        "    path_labels='labels.npy', \n",
        "    path_tSNE='tsne.npy', \n",
        "    dest='anommnist')\n",
        "\n",
        "gen.generate_ano_mnist()"
      ],
      "execution_count": 93,
      "outputs": [
        {
          "output_type": "stream",
          "text": [
            "Generating test set of shape (200, 20, 1, 64, 64)\n",
            "Loaded dataset from file system\n",
            "Loading existing t-SNE embedding from file system\n",
            "done\n",
            "Performing KMeans. K = 30\n",
            "Building dataset...\n",
            "done! :)\n"
          ],
          "name": "stdout"
        }
      ]
    },
    {
      "cell_type": "code",
      "metadata": {
        "id": "lWv3YUAtqz_R",
        "colab_type": "code",
        "colab": {}
      },
      "source": [
        "an = np.load('anommnist.npz')"
      ],
      "execution_count": 0,
      "outputs": []
    },
    {
      "cell_type": "code",
      "metadata": {
        "id": "Ek3_9_fg6Hu0",
        "colab_type": "code",
        "colab": {}
      },
      "source": [
        "an = an['anommnist']"
      ],
      "execution_count": 0,
      "outputs": []
    },
    {
      "cell_type": "code",
      "metadata": {
        "id": "ynOiwEk06LrS",
        "colab_type": "code",
        "colab": {
          "base_uri": "https://localhost:8080/",
          "height": 34
        },
        "outputId": "d12eee56-3ea5-45ae-c1cf-11fbaf2cf8de"
      },
      "source": [
        "an.shape"
      ],
      "execution_count": 96,
      "outputs": [
        {
          "output_type": "execute_result",
          "data": {
            "text/plain": [
              "(200, 20, 1, 64, 64)"
            ]
          },
          "metadata": {
            "tags": []
          },
          "execution_count": 96
        }
      ]
    },
    {
      "cell_type": "code",
      "metadata": {
        "id": "8VPVpQDQ6OOD",
        "colab_type": "code",
        "colab": {}
      },
      "source": [
        "from matplotlib import pyplot as plt\n",
        "%matplotlib inline"
      ],
      "execution_count": 0,
      "outputs": []
    },
    {
      "cell_type": "code",
      "metadata": {
        "id": "QOeNKQGb6ZA7",
        "colab_type": "code",
        "colab": {
          "base_uri": "https://localhost:8080/",
          "height": 285
        },
        "outputId": "ae320b5f-4046-4bc2-f882-07c45435a93e"
      },
      "source": [
        "plt.imshow(an[111,7,0,...], cmap = plt.cm.gray)"
      ],
      "execution_count": 114,
      "outputs": [
        {
          "output_type": "execute_result",
          "data": {
            "text/plain": [
              "<matplotlib.image.AxesImage at 0x7f8eb46e44a8>"
            ]
          },
          "metadata": {
            "tags": []
          },
          "execution_count": 114
        },
        {
          "output_type": "display_data",
          "data": {
            "image/png": "[encoded data removed]",
            "text/plain": [
              "<Figure size 432x288 with 1 Axes>"
            ]
          },
          "metadata": {
            "tags": []
          }
        }
      ]
    },
    {
      "cell_type": "code",
      "metadata": {
        "id": "SNEpfd5o6dFx",
        "colab_type": "code",
        "colab": {
          "base_uri": "https://localhost:8080/",
          "height": 285
        },
        "outputId": "add53e46-12c4-47e2-d609-c695d6a644f8"
      },
      "source": [
        "plt.imshow(an[111,8,0,...], cmap = plt.cm.gray)"
      ],
      "execution_count": 115,
      "outputs": [
        {
          "output_type": "execute_result",
          "data": {
            "text/plain": [
              "<matplotlib.image.AxesImage at 0x7f8eb464a240>"
            ]
          },
          "metadata": {
            "tags": []
          },
          "execution_count": 115
        },
        {
          "output_type": "display_data",
          "data": {
            "image/png": "[encoded data removed]",
            "text/plain": [
              "<Figure size 432x288 with 1 Axes>"
            ]
          },
          "metadata": {
            "tags": []
          }
        }
      ]
    },
    {
      "cell_type": "code",
      "metadata": {
        "id": "l2l4oMWF7eE6",
        "colab_type": "code",
        "colab": {}
      },
      "source": [
        ""
      ],
      "execution_count": 0,
      "outputs": []
    }
  ]
}